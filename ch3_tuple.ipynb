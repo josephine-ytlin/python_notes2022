{
 "cells": [
  {
   "cell_type": "markdown",
   "id": "dc00ec08-2394-4e8c-9410-bba01db840b0",
   "metadata": {},
   "source": [
    "##### tuple 1.可隨意指定且括號可被省略"
   ]
  },
  {
   "cell_type": "code",
   "execution_count": 21,
   "id": "36b51430-ed2c-49ed-a09e-9713d101c63f",
   "metadata": {},
   "outputs": [
    {
     "name": "stdout",
     "output_type": "stream",
     "text": [
      "3 1 2\n"
     ]
    }
   ],
   "source": [
    "a = '1'   #等號右邊的東西會先形成一個Tuples，再分配給前面的變數\n",
    "b = '2'\n",
    "c = '3'\n",
    "b, c, a = a, b, c\n",
    "\n",
    "print(a, b, c)"
   ]
  },
  {
   "cell_type": "code",
   "execution_count": 22,
   "id": "619da3ce-0fb9-453e-9f11-a996732ad3d5",
   "metadata": {},
   "outputs": [
    {
     "name": "stdout",
     "output_type": "stream",
     "text": [
      "2 4 1\n"
     ]
    }
   ],
   "source": [
    "d='4'\n",
    "b,c,a=d,b,c #b變成a \n",
    "print(a,b,c)   \n"
   ]
  },
  {
   "cell_type": "code",
   "execution_count": null,
   "id": "12bff4b7-cfe7-44ad-8766-a5e2da093028",
   "metadata": {},
   "outputs": [],
   "source": []
  }
 ],
 "metadata": {
  "kernelspec": {
   "display_name": "Python 3 (ipykernel)",
   "language": "python",
   "name": "python3"
  },
  "language_info": {
   "codemirror_mode": {
    "name": "ipython",
    "version": 3
   },
   "file_extension": ".py",
   "mimetype": "text/x-python",
   "name": "python",
   "nbconvert_exporter": "python",
   "pygments_lexer": "ipython3",
   "version": "3.9.11"
  }
 },
 "nbformat": 4,
 "nbformat_minor": 5
}
