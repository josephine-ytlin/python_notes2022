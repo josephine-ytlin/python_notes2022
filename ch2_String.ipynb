{
 "cells": [
  {
   "cell_type": "markdown",
   "id": "2e0311a9-d65e-4193-bfc3-31262e73c369",
   "metadata": {
    "jp-MarkdownHeadingCollapsed": true,
    "tags": []
   },
   "source": [
    "##### string 1.不可替換, 可重組 用string.replace()"
   ]
  },
  {
   "cell_type": "code",
   "execution_count": 2,
   "id": "89b312db-65ff-41ab-ab12-4181dc907b3a",
   "metadata": {},
   "outputs": [],
   "source": [
    "str1 = 'Henny'\n",
    "str1_replace = str1.replace('H','P')"
   ]
  },
  {
   "cell_type": "code",
   "execution_count": 10,
   "id": "3419cccb-ebf7-4a76-b47b-807c8bf69179",
   "metadata": {},
   "outputs": [
    {
     "data": {
      "text/plain": [
       "'Henny'"
      ]
     },
     "execution_count": 10,
     "metadata": {},
     "output_type": "execute_result"
    }
   ],
   "source": [
    "f\"{str1}\""
   ]
  },
  {
   "cell_type": "code",
   "execution_count": 11,
   "id": "492f13d5-2feb-4c9b-b171-73e6fe0d04cc",
   "metadata": {},
   "outputs": [
    {
     "data": {
      "text/plain": [
       "'Penny'"
      ]
     },
     "execution_count": 11,
     "metadata": {},
     "output_type": "execute_result"
    }
   ],
   "source": [
    "f\"{str1_replace}\""
   ]
  },
  {
   "cell_type": "markdown",
   "id": "1f730a9a-c435-42eb-8470-aab64945f2f2",
   "metadata": {
    "jp-MarkdownHeadingCollapsed": true,
    "tags": []
   },
   "source": [
    "##### string 2.可切割 用string.split()"
   ]
  },
  {
   "cell_type": "code",
   "execution_count": 3,
   "id": "ea69011f-a7f7-475f-9a43-9bbb5774be42",
   "metadata": {},
   "outputs": [
    {
     "data": {
      "text/plain": [
       "['Henny']"
      ]
     },
     "execution_count": 3,
     "metadata": {},
     "output_type": "execute_result"
    }
   ],
   "source": [
    "str1.split() #切割單一字串後會變成list"
   ]
  },
  {
   "cell_type": "code",
   "execution_count": 20,
   "id": "95493edd-cd5f-4e2a-997f-8677582815ec",
   "metadata": {},
   "outputs": [],
   "source": [
    "sentence1= 'this,is,a,sentence' #用逗號隔開想被切割的東西"
   ]
  },
  {
   "cell_type": "code",
   "execution_count": 21,
   "id": "7b83b2c9-9a47-4d11-823f-41d2c505c6e0",
   "metadata": {},
   "outputs": [
    {
     "data": {
      "text/plain": [
       "['this', 'is', 'a', 'sentence']"
      ]
     },
     "execution_count": 21,
     "metadata": {},
     "output_type": "execute_result"
    }
   ],
   "source": [
    "sentence1.split(',')"
   ]
  },
  {
   "cell_type": "markdown",
   "id": "1356be2f-7642-4a34-87b2-d62d2674e8c2",
   "metadata": {
    "jp-MarkdownHeadingCollapsed": true,
    "tags": []
   },
   "source": [
    "##### string 3.把list合併成string 用(' ').join(list)"
   ]
  },
  {
   "cell_type": "code",
   "execution_count": 23,
   "id": "8199bd5c-c28f-4515-83d9-1f4b8f0f34fe",
   "metadata": {},
   "outputs": [],
   "source": [
    "crypto_list = ['Yeti', 'Bigfoot', 'Loch Ness Monster']"
   ]
  },
  {
   "cell_type": "code",
   "execution_count": 28,
   "id": "2015d887-13c3-4c53-bf90-9c5b4f4f9836",
   "metadata": {},
   "outputs": [
    {
     "data": {
      "text/plain": [
       "'Yeti Bigfoot Loch Ness Monster'"
      ]
     },
     "execution_count": 28,
     "metadata": {},
     "output_type": "execute_result"
    }
   ],
   "source": [
    "(' ').join(crypto_list)"
   ]
  },
  {
   "cell_type": "markdown",
   "id": "4e5f3128-251a-46fa-97da-17defc5bd1de",
   "metadata": {
    "jp-MarkdownHeadingCollapsed": true,
    "tags": []
   },
   "source": [
    "##### string 4.檢查開頭或結尾 用string.startswith() |string.endswith()"
   ]
  },
  {
   "cell_type": "code",
   "execution_count": 40,
   "id": "24411680-cdcd-4ad1-b3d9-e9093b214cea",
   "metadata": {},
   "outputs": [
    {
     "data": {
      "text/plain": [
       "True"
      ]
     },
     "execution_count": 40,
     "metadata": {},
     "output_type": "execute_result"
    }
   ],
   "source": [
    "str1 = 'Henny'\n",
    "str1.startswith('H')"
   ]
  },
  {
   "cell_type": "code",
   "execution_count": 39,
   "id": "119334c6-b5ee-43e4-ad19-61b26f63713e",
   "metadata": {},
   "outputs": [
    {
     "data": {
      "text/plain": [
       "False"
      ]
     },
     "execution_count": 39,
     "metadata": {},
     "output_type": "execute_result"
    }
   ],
   "source": [
    "str1.endswith('Y')"
   ]
  },
  {
   "cell_type": "markdown",
   "id": "39e4ddac-17c6-45d8-bd44-3d0583ad9288",
   "metadata": {
    "jp-MarkdownHeadingCollapsed": true,
    "tags": []
   },
   "source": [
    "##### string 5.查詢出現的位置 查第一出現用 string.find() |查最後一次出現用string.rfind()"
   ]
  },
  {
   "cell_type": "code",
   "execution_count": 41,
   "id": "3c5b0eb2-0cbf-47c2-a41c-11a176efad1c",
   "metadata": {},
   "outputs": [
    {
     "data": {
      "text/plain": [
       "2"
      ]
     },
     "execution_count": 41,
     "metadata": {},
     "output_type": "execute_result"
    }
   ],
   "source": [
    "str1 = 'Henny'\n",
    "str1.find('n')"
   ]
  },
  {
   "cell_type": "code",
   "execution_count": 42,
   "id": "d0269dfb-16e6-4c11-91b0-31dfd3c787a7",
   "metadata": {},
   "outputs": [
    {
     "data": {
      "text/plain": [
       "3"
      ]
     },
     "execution_count": 42,
     "metadata": {},
     "output_type": "execute_result"
    }
   ],
   "source": [
    "str1.rfind('n')"
   ]
  },
  {
   "cell_type": "markdown",
   "id": "f6d218a9-c0af-4136-b23a-e5e4e7186e1b",
   "metadata": {
    "jp-MarkdownHeadingCollapsed": true,
    "tags": []
   },
   "source": [
    "##### sting 6.數出現幾次 用string.count()"
   ]
  },
  {
   "cell_type": "code",
   "execution_count": 43,
   "id": "96c07077-a41c-498c-8a33-6a92f7545889",
   "metadata": {},
   "outputs": [
    {
     "data": {
      "text/plain": [
       "2"
      ]
     },
     "execution_count": 43,
     "metadata": {},
     "output_type": "execute_result"
    }
   ],
   "source": [
    "str1.count('n')"
   ]
  },
  {
   "cell_type": "markdown",
   "id": "b9419485-9035-4c42-aebc-8df2fb208163",
   "metadata": {
    "jp-MarkdownHeadingCollapsed": true,
    "tags": []
   },
   "source": [
    "##### string 7.檢查是否都為數字或字母 用 string.isalnum()"
   ]
  },
  {
   "cell_type": "code",
   "execution_count": 48,
   "id": "7dd22306-d452-40d9-b169-c3382deac2e5",
   "metadata": {},
   "outputs": [
    {
     "data": {
      "text/plain": [
       "True"
      ]
     },
     "execution_count": 48,
     "metadata": {},
     "output_type": "execute_result"
    }
   ],
   "source": [
    "str1 = 'Henny'\n",
    "str1.isalnum()"
   ]
  },
  {
   "cell_type": "code",
   "execution_count": 49,
   "id": "5dee4592-ba06-462f-a902-c26d98a39f7d",
   "metadata": {},
   "outputs": [
    {
     "name": "stdout",
     "output_type": "stream",
     "text": [
      "a duck goes into a bar\n",
      "A duck goes into a bar...\n",
      "A Duck Goes Into A Bar...\n",
      "A DUCK GOES INTO A BAR...\n",
      "a duck goes into a bar...\n",
      "A DUCK GOES INTO A BAR...\n",
      "  a duck goes into a bar...   \n",
      "a duck goes into a bar...     \n",
      "     a duck goes into a bar...\n",
      "a marmoset goes into a bar...\n",
      "a famous duck goes into a famous bar...\n"
     ]
    }
   ],
   "source": [
    "#其餘還有一些方便的string內建function可以使用\n",
    "\n",
    "setup = 'a duck goes into a bar...'\n",
    "print(setup.strip('.'))                      #刪除結尾特定符號 'a duck goes into a bar'\n",
    "print(setup.capitalize())                    #字串第一個字元大寫 'A duck goes into a bar...'\n",
    "print(setup.title())                         #每個單字開頭大寫 'A Duck Goes Into A Bar...'\n",
    "print(setup.upper())                         #全部大寫 'A DUCK GOES INTO A BAR...'\n",
    "print(setup.lower())                         #全部小寫 'a duck goes into a bar...'\n",
    "print(setup.swapcase())                      #大小寫交換 'a DUCK GOES INTO A BAR...'\n",
    "print(setup.center(30))                      #將字串中心移動至30個字元的中間 '  a duck goes into a bar...   '\n",
    "print(setup.ljust(30))                       #左對齊 'a duck goes into a bar...     '\n",
    "print(setup.rjust(30))                       #右對齊 '     a duck goes into a bar...'\n",
    "print(setup.replace('duck', 'marmoset'))     #'a marmoset goes into a bar...'\n",
    "print(setup.replace('a ', 'a famous ', 100)) #只替換前100個'a '"
   ]
  },
  {
   "cell_type": "code",
   "execution_count": null,
   "id": "39e821ed-96ac-4790-9df2-d74ee251286d",
   "metadata": {},
   "outputs": [],
   "source": []
  }
 ],
 "metadata": {
  "kernelspec": {
   "display_name": "Python 3 (ipykernel)",
   "language": "python",
   "name": "python3"
  },
  "language_info": {
   "codemirror_mode": {
    "name": "ipython",
    "version": 3
   },
   "file_extension": ".py",
   "mimetype": "text/x-python",
   "name": "python",
   "nbconvert_exporter": "python",
   "pygments_lexer": "ipython3",
   "version": "3.9.11"
  }
 },
 "nbformat": 4,
 "nbformat_minor": 5
}
