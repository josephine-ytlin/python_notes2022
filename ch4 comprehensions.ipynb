{
 "cells": [
  {
   "cell_type": "markdown",
   "id": "d20f061c-08dd-4e1c-a61d-686814e93f10",
   "metadata": {
    "jp-MarkdownHeadingCollapsed": true,
    "tags": []
   },
   "source": [
    "##### 生成list 1.用range,但不包含最後一個數"
   ]
  },
  {
   "cell_type": "code",
   "execution_count": null,
   "id": "047bf3b3-0b09-4ed1-93e3-b4a5f58c83d5",
   "metadata": {},
   "outputs": [],
   "source": [
    "print(list(range(5))) #range(5) = 0~4\n",
    "print(list(range(0,5))) #range(0,5) = 0~4\n",
    "print(list(range(2,5))) #range(2,5) = 2~4"
   ]
  },
  {
   "cell_type": "markdown",
   "id": "780888e0-f68d-462d-8d62-8f0924f7f77c",
   "metadata": {
    "jp-MarkdownHeadingCollapsed": true,
    "tags": []
   },
   "source": [
    "##### 生成list 2.用comprehesions 可以直接對i運算或if判斷"
   ]
  },
  {
   "cell_type": "code",
   "execution_count": null,
   "id": "760438cd-c716-4eb0-8257-e40c4f5da5c6",
   "metadata": {},
   "outputs": [],
   "source": [
    "[i*5 for i in range(5) if i ==2]"
   ]
  },
  {
   "cell_type": "code",
   "execution_count": null,
   "id": "dfcccc7d-45a8-4ec7-bffa-225f284da0a7",
   "metadata": {},
   "outputs": [],
   "source": [
    "####寫法1\n",
    "rows = range(1,4)\n",
    "cols = range(1,6)\n",
    "cells_1 = []\n",
    "for a in rows:\n",
    "    for b in cols:\n",
    "        cells_1.append((a, b))\n",
    "for c, d in cells_1:\n",
    "    print(c,d)\n",
    "print(cells_1)\n",
    "\n",
    "print('-----') \n",
    "        \n",
    "#寫法2 :不需要先準備空lsit\n",
    "cells_2 = [(r,c) for r in range(1, 4) for c in range(1, 6)]#for 跟for之間不需要加逗號\n",
    "for r1, c1 in cells_2:\n",
    "    print(r1, c1)\n",
    "    \n",
    "#製造出來的數列是相同的 \n",
    "\n",
    "print(cells_2)"
   ]
  },
  {
   "cell_type": "markdown",
   "id": "e9872ca0-89cf-4132-be2b-e3bad5be9538",
   "metadata": {
    "jp-MarkdownHeadingCollapsed": true,
    "tags": []
   },
   "source": [
    "##### 生成dict 1.用comprehesions 可以直接對i運算或if判斷"
   ]
  },
  {
   "cell_type": "code",
   "execution_count": null,
   "id": "49b119f5-4403-4447-89a8-f5ac4b5920ee",
   "metadata": {},
   "outputs": [],
   "source": [
    "word = 'weekends'\n",
    "letter_counts={i: 3*word.count(i) for i in set(word) if i.lower() in 'aeiou'}\n",
    "print(letter_counts)\n",
    "\n",
    "oneway = \"洗洗睡啦\"\n",
    "print(set(oneway))   #把字串變成set,就不會列出重複字"
   ]
  },
  {
   "cell_type": "markdown",
   "id": "b783bdfc-fa12-4ace-ade5-62b203cbdf01",
   "metadata": {
    "jp-MarkdownHeadingCollapsed": true,
    "tags": []
   },
   "source": [
    "##### 生成set 1.用comprehesions 可以直接對i運算或if判斷"
   ]
  },
  {
   "cell_type": "code",
   "execution_count": 3,
   "id": "34a08105-3f8e-4991-908f-7bf2f577c008",
   "metadata": {},
   "outputs": [
    {
     "data": {
      "text/plain": [
       "{4, 6, 8, 10}"
      ]
     },
     "execution_count": 3,
     "metadata": {},
     "output_type": "execute_result"
    }
   ],
   "source": [
    "{i*2 for i in range(1,6) if i >1} "
   ]
  },
  {
   "cell_type": "markdown",
   "id": "92318a93-ca26-47eb-b6ca-826c8d970cf7",
   "metadata": {
    "jp-MarkdownHeadingCollapsed": true,
    "tags": []
   },
   "source": [
    "##### 產生器"
   ]
  },
  {
   "cell_type": "code",
   "execution_count": 5,
   "id": "642cd054-f878-4e2a-87e7-6a8bb5257114",
   "metadata": {},
   "outputs": [],
   "source": [
    "def range_2(first=0,last=10,step=1):\n",
    "    n=first\n",
    "    while n<last:\n",
    "        yield n\n",
    "        n += step"
   ]
  },
  {
   "cell_type": "code",
   "execution_count": 6,
   "id": "c55faa96-6b38-44b3-99fe-1c65383efb1e",
   "metadata": {},
   "outputs": [
    {
     "data": {
      "text/plain": [
       "<function __main__.range_2(first=0, last=10, step=1)>"
      ]
     },
     "execution_count": 6,
     "metadata": {},
     "output_type": "execute_result"
    }
   ],
   "source": [
    "range_2"
   ]
  },
  {
   "cell_type": "code",
   "execution_count": 7,
   "id": "98898b2e-3716-4f99-88b9-9edd7af50bc0",
   "metadata": {},
   "outputs": [],
   "source": [
    "ranger = range_2(1,5)"
   ]
  },
  {
   "cell_type": "code",
   "execution_count": 8,
   "id": "25e1ad11-01f8-4be6-9a25-6c37a50bb25b",
   "metadata": {},
   "outputs": [
    {
     "data": {
      "text/plain": [
       "<generator object range_2 at 0x0000014E0C5E94A0>"
      ]
     },
     "execution_count": 8,
     "metadata": {},
     "output_type": "execute_result"
    }
   ],
   "source": [
    "ranger"
   ]
  },
  {
   "cell_type": "code",
   "execution_count": 9,
   "id": "c4805e8e-4c65-4193-b934-fef33cd285ca",
   "metadata": {},
   "outputs": [
    {
     "name": "stdout",
     "output_type": "stream",
     "text": [
      "1\n",
      "2\n",
      "3\n",
      "4\n"
     ]
    }
   ],
   "source": [
    "for x in ranger:\n",
    "    print(x)"
   ]
  },
  {
   "cell_type": "code",
   "execution_count": 10,
   "id": "4626106d-3418-47bd-8593-00efcdfb01ea",
   "metadata": {},
   "outputs": [],
   "source": [
    "for a in ranger:\n",
    "    print(a)"
   ]
  },
  {
   "cell_type": "code",
   "execution_count": null,
   "id": "18ae7ea1-16bb-4d94-a511-56b453eeee69",
   "metadata": {},
   "outputs": [],
   "source": []
  }
 ],
 "metadata": {
  "kernelspec": {
   "display_name": "Python 3 (ipykernel)",
   "language": "python",
   "name": "python3"
  },
  "language_info": {
   "codemirror_mode": {
    "name": "ipython",
    "version": 3
   },
   "file_extension": ".py",
   "mimetype": "text/x-python",
   "name": "python",
   "nbconvert_exporter": "python",
   "pygments_lexer": "ipython3",
   "version": "3.9.11"
  }
 },
 "nbformat": 4,
 "nbformat_minor": 5
}
