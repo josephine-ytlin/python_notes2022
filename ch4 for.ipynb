{
 "cells": [
  {
   "cell_type": "markdown",
   "id": "b11c10c4-ca32-420c-a5a6-4f0610a96a8a",
   "metadata": {
    "jp-MarkdownHeadingCollapsed": true,
    "tags": []
   },
   "source": [
    "##### for 1.列出字典所有的key或value或完整item"
   ]
  },
  {
   "cell_type": "code",
   "execution_count": null,
   "id": "44214fea-bb7e-46fa-9c02-936a2f5d5aa0",
   "metadata": {},
   "outputs": [],
   "source": [
    "accusation = {'room': 'ballroom', 'weapon': 'lead pipe', 'person': 'Col. Mustard'}\n",
    "for i in accusation.keys(): \n",
    "    print(i)\n",
    "    \n",
    "accusation = {'room': 'ballroom', 'weapon': 'lead pipe', 'person': 'Col. Mustard'}\n",
    "for i in accusation.values():\n",
    "    print(i)\n",
    "    \n",
    "accusation = {'room': 'ballroom', 'weapon': 'lead pipe', 'person': 'Col. Mustard'}\n",
    "for i in accusation.items(): \n",
    "    print(i) #輸出形式為tuple\n",
    "    "
   ]
  },
  {
   "cell_type": "markdown",
   "id": "27b7c6de-f0e2-4f24-b95d-69ba15d029ca",
   "metadata": {
    "jp-MarkdownHeadingCollapsed": true,
    "tags": []
   },
   "source": [
    "##### for 2.index全部自定義,可以同時定義多個"
   ]
  },
  {
   "cell_type": "code",
   "execution_count": null,
   "id": "c5c96c4c-ed2d-4c88-9b2b-12434e8961c0",
   "metadata": {},
   "outputs": [],
   "source": [
    "word = 'cat'\n",
    "for i in word:\n",
    "    print(i)  #'i'是自定義的值,可以是任何字串"
   ]
  },
  {
   "cell_type": "code",
   "execution_count": null,
   "id": "6551d9ec-2bd7-4dd3-a6e3-72736823550a",
   "metadata": {},
   "outputs": [],
   "source": [
    "accusation = {'room': 'ballroom', 'weapon': 'lead pipe', 'person': 'Col. Mustard'}\n",
    "for a, b in accusation.items():\n",
    "    print('key：', a, ',\\tvalue：', b)  #\\t是tab 可對齊字"
   ]
  },
  {
   "cell_type": "markdown",
   "id": "bfe55275-e111-4dd7-a0c1-7fdee2012541",
   "metadata": {
    "jp-MarkdownHeadingCollapsed": true,
    "tags": []
   },
   "source": [
    "##### for 3.可使用break, continue, else\n",
    "##### 注意: continue或break要在if下一級(要縮排),且執行動作(ex. print())與if同級"
   ]
  },
  {
   "cell_type": "code",
   "execution_count": 14,
   "id": "8eec7ef0-ffab-4fee-a99e-d94e6b2a5b51",
   "metadata": {},
   "outputs": [
    {
     "name": "stdout",
     "output_type": "stream",
     "text": [
      "1\n",
      "2\n",
      "3\n",
      "5\n",
      "6\n",
      "7\n",
      "8\n",
      "9\n",
      "10\n",
      "沒有使用break\n"
     ]
    }
   ],
   "source": [
    "tuple1=(1,2,3,4,5,6,7,8,9,10)\n",
    "for i in tuple1:\n",
    "    if i == 4:\n",
    "        continue\n",
    "    if i == 15:\n",
    "        break\n",
    "    print(i)  #print 跟if在同一級\n",
    "else:\n",
    "    print('沒有使用break')  #print在else下一級,所以要縮排\n"
   ]
  },
  {
   "cell_type": "markdown",
   "id": "9d23fadc-b13d-469e-b847-0a80159a3b70",
   "metadata": {
    "jp-MarkdownHeadingCollapsed": true,
    "tags": []
   },
   "source": [
    "##### for 4.搭配range() 創建一個整數列表,讓for loop可以根據物件長度迭代"
   ]
  },
  {
   "cell_type": "code",
   "execution_count": 21,
   "id": "813293b0-fcce-423a-8d86-4c9cf14d73bc",
   "metadata": {},
   "outputs": [
    {
     "name": "stdout",
     "output_type": "stream",
     "text": [
      "0\n",
      "1\n",
      "2\n"
     ]
    }
   ],
   "source": [
    "days = ['Monday', 'Tuesday', 'Wednesday']\n",
    "fruits = ['banana', 'orange', 'peach']\n",
    "drinks = ['coffee', 'tea', 'beer']\n",
    "desserts = ['tiramisu', 'ice cream', 'pie', 'pudding']\n",
    "\n",
    "for i in range(len(days)):  #用range(len(物件串))來給定一個整數列表\n",
    "    print(i) #產生一個列表"
   ]
  },
  {
   "cell_type": "code",
   "execution_count": 22,
   "id": "2fa32273-624e-4b4c-883e-f1ae00503246",
   "metadata": {},
   "outputs": [
    {
     "name": "stdout",
     "output_type": "stream",
     "text": [
      "Monday : drink coffee - eat banana - enjoy tiramisu\n",
      "Tuesday : drink tea - eat orange - enjoy ice cream\n",
      "Wednesday : drink beer - eat peach - enjoy pie\n"
     ]
    }
   ],
   "source": [
    "for i in range(len(days)):  #用range(len(物件串))來給定一個\n",
    "    print(days[i], \": drink\", drinks[i], \"- eat\", fruits[i], \"- enjoy\", desserts[i])"
   ]
  },
  {
   "cell_type": "markdown",
   "id": "c18d8391-d1fc-4ee7-bcaf-97205afa531b",
   "metadata": {
    "jp-MarkdownHeadingCollapsed": true,
    "tags": []
   },
   "source": [
    "##### for 5.同時多組物件迴圈迭代 用zip()同時對多組物件執行"
   ]
  },
  {
   "cell_type": "code",
   "execution_count": 23,
   "id": "b35194d7-0459-47a3-8e0f-d4c93ee253f6",
   "metadata": {},
   "outputs": [
    {
     "name": "stdout",
     "output_type": "stream",
     "text": [
      "Monday : drink coffee - eat banana - enjoy tiramisu\n",
      "Tuesday : drink tea - eat orange - enjoy ice cream\n",
      "Wednesday : drink beer - eat peach - enjoy pie\n"
     ]
    }
   ],
   "source": [
    "for day, fruit, drink, dessert in zip(days, fruits, drinks, desserts):\n",
    "    print(day, \": drink\", drink, \"- eat\", fruit, \"- enjoy\", dessert)"
   ]
  }
 ],
 "metadata": {
  "kernelspec": {
   "display_name": "Python 3 (ipykernel)",
   "language": "python",
   "name": "python3"
  },
  "language_info": {
   "codemirror_mode": {
    "name": "ipython",
    "version": 3
   },
   "file_extension": ".py",
   "mimetype": "text/x-python",
   "name": "python",
   "nbconvert_exporter": "python",
   "pygments_lexer": "ipython3",
   "version": "3.9.11"
  }
 },
 "nbformat": 4,
 "nbformat_minor": 5
}
