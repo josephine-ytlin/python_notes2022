{
 "cells": [
  {
   "cell_type": "markdown",
   "id": "e520893c-fb28-4c5b-a7e4-e523f2dd41ee",
   "metadata": {
    "jp-MarkdownHeadingCollapsed": true,
    "tags": []
   },
   "source": [
    "##### set 1.沒順序,不重複"
   ]
  },
  {
   "cell_type": "code",
   "execution_count": 1,
   "id": "7a704488-b1ed-4cc4-98be-d6eb9bd94d35",
   "metadata": {},
   "outputs": [],
   "source": [
    "set1=set() #空集合\n",
    "set2={'d','a','c','b'} #set就像沒有key的dict\n",
    "set3={'a','b','c','b','a','a','d'}"
   ]
  },
  {
   "cell_type": "code",
   "execution_count": 2,
   "id": "eedf9d13-1b34-4576-9fef-a9c22fd08254",
   "metadata": {},
   "outputs": [
    {
     "data": {
      "text/plain": [
       "'set()'"
      ]
     },
     "execution_count": 2,
     "metadata": {},
     "output_type": "execute_result"
    }
   ],
   "source": [
    "f'{set1}'"
   ]
  },
  {
   "cell_type": "code",
   "execution_count": 3,
   "id": "c2ac7b2a-e12d-47fe-bf0c-90c06c0fe36b",
   "metadata": {},
   "outputs": [
    {
     "data": {
      "text/plain": [
       "\"{'b', 'a', 'd', 'c'}\""
      ]
     },
     "execution_count": 3,
     "metadata": {},
     "output_type": "execute_result"
    }
   ],
   "source": [
    "f'{set2}' #無順序"
   ]
  },
  {
   "cell_type": "code",
   "execution_count": 4,
   "id": "a3dc8d12-6dc1-4083-83f0-f61b6f47b382",
   "metadata": {},
   "outputs": [
    {
     "data": {
      "text/plain": [
       "\"{'b', 'a', 'd', 'c'}\""
      ]
     },
     "execution_count": 4,
     "metadata": {},
     "output_type": "execute_result"
    }
   ],
   "source": [
    "f'{set3}' #不重複"
   ]
  },
  {
   "cell_type": "markdown",
   "id": "a2aff089-2e9a-476e-918a-26570ac930fb",
   "metadata": {
    "jp-MarkdownHeadingCollapsed": true,
    "tags": []
   },
   "source": [
    "##### set 2.把dict改成set只會留下key"
   ]
  },
  {
   "cell_type": "code",
   "execution_count": 1,
   "id": "43f8aa5d-faae-40c0-a27d-054c1f6cf073",
   "metadata": {},
   "outputs": [],
   "source": [
    "dict1 ={'a':1,'b':2,'c':3,'d':4}\n",
    "set4=set(dict1)"
   ]
  },
  {
   "cell_type": "code",
   "execution_count": 3,
   "id": "74d132e6-a4f2-4d99-9d49-7b458d7b5656",
   "metadata": {},
   "outputs": [
    {
     "data": {
      "text/plain": [
       "\"{'d', 'b', 'a', 'c'}\""
      ]
     },
     "execution_count": 3,
     "metadata": {},
     "output_type": "execute_result"
    }
   ],
   "source": [
    "f'{set4}' #set不照順序 且只留下key"
   ]
  },
  {
   "cell_type": "code",
   "execution_count": null,
   "id": "c7ec2178-010c-4987-97a7-d3ff5d250c9b",
   "metadata": {},
   "outputs": [],
   "source": []
  }
 ],
 "metadata": {
  "kernelspec": {
   "display_name": "Python 3 (ipykernel)",
   "language": "python",
   "name": "python3"
  },
  "language_info": {
   "codemirror_mode": {
    "name": "ipython",
    "version": 3
   },
   "file_extension": ".py",
   "mimetype": "text/x-python",
   "name": "python",
   "nbconvert_exporter": "python",
   "pygments_lexer": "ipython3",
   "version": "3.9.11"
  }
 },
 "nbformat": 4,
 "nbformat_minor": 5
}
