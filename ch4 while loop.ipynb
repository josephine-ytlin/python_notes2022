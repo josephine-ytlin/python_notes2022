{
 "cells": [
  {
   "cell_type": "markdown",
   "id": "30e3b671-0f20-48e0-bab9-11c50b2c38d6",
   "metadata": {
    "jp-MarkdownHeadingCollapsed": true,
    "tags": []
   },
   "source": [
    "##### rules 1.可用 \\ 連接多行code"
   ]
  },
  {
   "cell_type": "code",
   "execution_count": 3,
   "id": "c0b5dccd-7132-4418-8394-0519c82e8268",
   "metadata": {},
   "outputs": [
    {
     "data": {
      "text/plain": [
       "'abcd00000000000efgh111111111111111111111111111111111ijklm2222222222222222222222222222no'"
      ]
     },
     "execution_count": 3,
     "metadata": {},
     "output_type": "execute_result"
    }
   ],
   "source": [
    "str_connect= 'abcd00000000000e'+ \\\n",
    "'fgh111111111111111111111111111111111ij'+ \\\n",
    "'klm2222222222222222222222222222no'\n",
    "f\"{str_connect}\""
   ]
  },
  {
   "cell_type": "markdown",
   "id": "9c449b52-264c-4864-8f48-b579158b6790",
   "metadata": {
    "jp-MarkdownHeadingCollapsed": true,
    "tags": []
   },
   "source": [
    "##### while 1.普通while"
   ]
  },
  {
   "cell_type": "code",
   "execution_count": 4,
   "id": "96e1692b-c59b-4c09-92c0-9ff08e85dfe5",
   "metadata": {},
   "outputs": [
    {
     "name": "stdout",
     "output_type": "stream",
     "text": [
      "1, 2, 3, 4, 5, "
     ]
    }
   ],
   "source": [
    "number=1\n",
    "while number <=5:\n",
    "    print(number, end=', ')\n",
    "    number+=1"
   ]
  },
  {
   "cell_type": "markdown",
   "id": "a22e4127-a64d-45cf-8ebd-1dbfc7d21d03",
   "metadata": {
    "tags": []
   },
   "source": [
    "##### while 2.中途停掉 設定條件,用break停, \n",
    "##### 注意:要把條件寫在loop內容之前!"
   ]
  },
  {
   "cell_type": "code",
   "execution_count": 6,
   "id": "99b439ca-533a-4b23-9dc0-b4440b45f262",
   "metadata": {},
   "outputs": [
    {
     "name": "stdout",
     "output_type": "stream",
     "text": [
      "1, 2, 3, "
     ]
    }
   ],
   "source": [
    "number=1\n",
    "while number <=5:\n",
    "    if number ==4:\n",
    "        break\n",
    "    print(number, end=', ')\n",
    "    number+=1 \n",
    "    \n",
    "#遇到4就會停止"
   ]
  },
  {
   "cell_type": "markdown",
   "id": "6c946733-9e95-4f65-95d2-34296262ef7e",
   "metadata": {
    "tags": []
   },
   "source": [
    "##### while 3.中途跳過 設定條件,用continue跳過, \n",
    "##### 注意:要把迭代條件重複寫在continue之前, continue寫在loop內容之前"
   ]
  },
  {
   "cell_type": "code",
   "execution_count": 8,
   "id": "39651ad5-83af-40e6-b75f-63de07dfd2b3",
   "metadata": {},
   "outputs": [
    {
     "name": "stdout",
     "output_type": "stream",
     "text": [
      "1, 2, 4, 5, "
     ]
    }
   ],
   "source": [
    "number=1\n",
    "while number <=5:\n",
    "    if number ==3:\n",
    "        number+=1\n",
    "        continue\n",
    "    print(number, end=', ')\n",
    "    number+=1 \n",
    "#遇到3就會跳過"
   ]
  },
  {
   "cell_type": "markdown",
   "id": "4d315181-851b-4be8-80cd-665242eb0abf",
   "metadata": {
    "tags": []
   },
   "source": [
    "##### while 4.檢查break是不是真的有停 設定條件,用else\n",
    "##### 注意: else寫在loop內容之後,且與while同等級位置"
   ]
  },
  {
   "cell_type": "code",
   "execution_count": 10,
   "id": "e7ee74c3-4a7a-4c00-b2bd-e83cad67a240",
   "metadata": {},
   "outputs": [
    {
     "name": "stdout",
     "output_type": "stream",
     "text": [
      "1, 2, 3, 4, 5, 沒有使用break\n"
     ]
    }
   ],
   "source": [
    "number=1\n",
    "while number <=5:\n",
    "    if number ==6:\n",
    "        break\n",
    "    print(number, end=', ')\n",
    "    number+=1 \n",
    "else:   #注意else不可縮排,此處與while同等級\n",
    "        print('沒有使用break')"
   ]
  },
  {
   "cell_type": "code",
   "execution_count": null,
   "id": "8244a552-c091-449d-9342-b6a879821d80",
   "metadata": {},
   "outputs": [],
   "source": []
  }
 ],
 "metadata": {
  "kernelspec": {
   "display_name": "Python 3 (ipykernel)",
   "language": "python",
   "name": "python3"
  },
  "language_info": {
   "codemirror_mode": {
    "name": "ipython",
    "version": 3
   },
   "file_extension": ".py",
   "mimetype": "text/x-python",
   "name": "python",
   "nbconvert_exporter": "python",
   "pygments_lexer": "ipython3",
   "version": "3.9.11"
  }
 },
 "nbformat": 4,
 "nbformat_minor": 5
}
