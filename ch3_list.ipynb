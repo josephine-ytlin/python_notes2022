{
 "cells": [
  {
   "cell_type": "markdown",
   "id": "820850b8-1b4d-41b5-a34e-48ffc06d7211",
   "metadata": {
    "tags": []
   },
   "source": [
    "##### list 1.把別種型態(ex. tuple or string)轉換成list 用list() | string.split()"
   ]
  },
  {
   "cell_type": "code",
   "execution_count": 3,
   "id": "ba2d2d4d-9d97-4060-9bf3-a475bf16fc8c",
   "metadata": {},
   "outputs": [
    {
     "data": {
      "text/plain": [
       "['H', 'e', 'n', 'n', 'y']"
      ]
     },
     "execution_count": 3,
     "metadata": {},
     "output_type": "execute_result"
    }
   ],
   "source": [
    "str1 = 'Henny' \n",
    "list(str1) #全部分開變成很多個lsit元素 "
   ]
  },
  {
   "cell_type": "code",
   "execution_count": 15,
   "id": "b09d4125-f602-41c8-b042-7759cfe1c6d4",
   "metadata": {},
   "outputs": [
    {
     "data": {
      "text/plain": [
       "['H', 'e', 'n', 'n', 'y']"
      ]
     },
     "execution_count": 15,
     "metadata": {},
     "output_type": "execute_result"
    }
   ],
   "source": [
    "str2 = 'H,e,n,n,y'\n",
    "str2.split(',') #一起變成list中的一個元素"
   ]
  },
  {
   "cell_type": "code",
   "execution_count": 12,
   "id": "30e48e96-c043-4118-bcfa-3e28011cf4aa",
   "metadata": {},
   "outputs": [
    {
     "data": {
      "text/plain": [
       "['H', 'e', 'n', 'n', 'y']"
      ]
     },
     "execution_count": 14,
     "metadata": {},
     "output_type": "execute_result"
    }
   ],
   "source": [
    "str1.split() #一起變成list中的一個元素"
   ]
  },
  {
   "cell_type": "code",
   "execution_count": 4,
   "id": "d8a4e680-6f2c-4132-ab4f-787c4504e0af",
   "metadata": {},
   "outputs": [
    {
     "data": {
      "text/plain": [
       "[1, 2, 3, 4, 5]"
      ]
     },
     "execution_count": 4,
     "metadata": {},
     "output_type": "execute_result"
    }
   ],
   "source": [
    "tup1 =(1,2,3,4,5)\n",
    "list(tup1)"
   ]
  },
  {
   "cell_type": "markdown",
   "id": "3388d0a6-a207-426d-a304-268685eef8da",
   "metadata": {
    "jp-MarkdownHeadingCollapsed": true,
    "tags": []
   },
   "source": [
    "##### list 2.選取中的選取 用list[大list][大list裡的小list]"
   ]
  },
  {
   "cell_type": "code",
   "execution_count": 16,
   "id": "fecaa3e0-580f-4d75-b847-7e667f72ce23",
   "metadata": {},
   "outputs": [
    {
     "data": {
      "text/plain": [
       "3"
      ]
     },
     "execution_count": 16,
     "metadata": {},
     "output_type": "execute_result"
    }
   ],
   "source": [
    "list1 = [[1,2,3,4,5],[6,7,8,9,10],[11,12,13,14,15]]\n",
    "list1[0][2]"
   ]
  },
  {
   "cell_type": "markdown",
   "id": "f666dc5c-ee97-48bf-8881-9c7961aaf5c5",
   "metadata": {
    "jp-MarkdownHeadingCollapsed": true,
    "tags": []
   },
   "source": [
    "##### list 3.listA與listB合併 用 listA+listB | list.extend()"
   ]
  },
  {
   "cell_type": "code",
   "execution_count": 24,
   "id": "f7bef879-c085-4607-89ab-99be034bf9d8",
   "metadata": {},
   "outputs": [],
   "source": [
    "listA = [1,2,3,4,5]\n",
    "listB = [6,7,8,9,10]"
   ]
  },
  {
   "cell_type": "code",
   "execution_count": 25,
   "id": "7121ad0d-7e74-4d46-ac84-b6e774316f59",
   "metadata": {},
   "outputs": [],
   "source": [
    "listA += listB"
   ]
  },
  {
   "cell_type": "code",
   "execution_count": 26,
   "id": "e658c4ab-3cc4-43d0-be5c-e7ec60f8e9c9",
   "metadata": {},
   "outputs": [
    {
     "data": {
      "text/plain": [
       "[1, 2, 3, 4, 5, 6, 7, 8, 9, 10]"
      ]
     },
     "execution_count": 26,
     "metadata": {},
     "output_type": "execute_result"
    }
   ],
   "source": [
    "listA"
   ]
  },
  {
   "cell_type": "code",
   "execution_count": 27,
   "id": "4fdc1397-0bac-434f-884d-14d03025e7e9",
   "metadata": {},
   "outputs": [],
   "source": [
    "listA.extend(listB)"
   ]
  },
  {
   "cell_type": "code",
   "execution_count": 28,
   "id": "efaf97ee-505a-4bea-a1f4-de09a518ee7b",
   "metadata": {},
   "outputs": [
    {
     "data": {
      "text/plain": [
       "[1, 2, 3, 4, 5, 6, 7, 8, 9, 10, 6, 7, 8, 9, 10]"
      ]
     },
     "execution_count": 28,
     "metadata": {},
     "output_type": "execute_result"
    }
   ],
   "source": [
    "listA"
   ]
  },
  {
   "cell_type": "markdown",
   "id": "8c8cbb49-e224-4021-a30d-08f5b83b543d",
   "metadata": {
    "jp-MarkdownHeadingCollapsed": true,
    "tags": []
   },
   "source": [
    "##### list 4.刪除物件用 del list[位置] | list.remove()"
   ]
  },
  {
   "cell_type": "code",
   "execution_count": 34,
   "id": "3927e1fd-b182-4053-a93b-65d9067ed2e8",
   "metadata": {},
   "outputs": [
    {
     "data": {
      "text/plain": [
       "'[1, 3, 4, 5]'"
      ]
     },
     "execution_count": 34,
     "metadata": {},
     "output_type": "execute_result"
    }
   ],
   "source": [
    "listA = [1,2,3,4,5]\n",
    "del listA[1]\n",
    "f\"{listA}\""
   ]
  },
  {
   "cell_type": "code",
   "execution_count": 37,
   "id": "ee432de5-fa8a-412b-9781-6bc851a291cd",
   "metadata": {},
   "outputs": [
    {
     "data": {
      "text/plain": [
       "'[6, 7, 9, 10]'"
      ]
     },
     "execution_count": 37,
     "metadata": {},
     "output_type": "execute_result"
    }
   ],
   "source": [
    "listB = [6,7,8,9,10]\n",
    "listB.remove(8)\n",
    "f\"{listB}\""
   ]
  },
  {
   "cell_type": "markdown",
   "id": "eb2409ee-6e5a-40d8-ab98-e0efbe7f5418",
   "metadata": {
    "jp-MarkdownHeadingCollapsed": true,
    "tags": []
   },
   "source": [
    "##### list 5.複製list的方法 用target_list.copy() | list(target_list) | target_list[:]"
   ]
  },
  {
   "cell_type": "code",
   "execution_count": 40,
   "id": "d074fc29-5ddf-440c-9d19-06c241e0bce6",
   "metadata": {},
   "outputs": [
    {
     "name": "stdout",
     "output_type": "stream",
     "text": [
      "['hahaha', 2, 3, 4, 5] [1, 2, 3, 4, 5] [1, 2, 3, 4, 5] [1, 2, 3, 4, 5]\n"
     ]
    }
   ],
   "source": [
    "A = [1,2,3,4,5]\n",
    "\n",
    "B = A.copy()\n",
    "C = list(A)\n",
    "D = A[:]\n",
    "\n",
    "A[0]='hahaha'\n",
    "\n",
    "print(A,B,C,D)\n"
   ]
  },
  {
   "cell_type": "code",
   "execution_count": null,
   "id": "1d4237db-9120-4c4c-8be7-a64127db0af9",
   "metadata": {},
   "outputs": [],
   "source": []
  }
 ],
 "metadata": {
  "kernelspec": {
   "display_name": "Python 3 (ipykernel)",
   "language": "python",
   "name": "python3"
  },
  "language_info": {
   "codemirror_mode": {
    "name": "ipython",
    "version": 3
   },
   "file_extension": ".py",
   "mimetype": "text/x-python",
   "name": "python",
   "nbconvert_exporter": "python",
   "pygments_lexer": "ipython3",
   "version": "3.9.11"
  }
 },
 "nbformat": 4,
 "nbformat_minor": 5
}
