{
 "cells": [
  {
   "cell_type": "markdown",
   "id": "cd400719-6c1a-419f-8e0a-a5ddec45d1b5",
   "metadata": {
    "jp-MarkdownHeadingCollapsed": true,
    "tags": []
   },
   "source": [
    "##### function 1.define的時候可以給定預設值"
   ]
  },
  {
   "cell_type": "code",
   "execution_count": null,
   "id": "3fd9e8c4-888d-4157-9a2a-7054f5cef790",
   "metadata": {},
   "outputs": [],
   "source": [
    "def menu(a, b, c='default'):   #function可以給定預設值\n",
    "    return {'wine': a, 'entree': b, 'dessert': c}\n",
    "\n",
    "print(menu('chardonnay', 'chicken'))\n",
    "print(menu('dunkelfelder', 'duck', 'doughnut'))"
   ]
  },
  {
   "cell_type": "code",
   "execution_count": null,
   "id": "ae1d239d-110d-4002-9406-d0ad4026be1a",
   "metadata": {},
   "outputs": [],
   "source": [
    "def buggy(a, result=[]):\n",
    "    result.append(a)\n",
    "    print(result)"
   ]
  },
  {
   "cell_type": "markdown",
   "id": "8976a57e-e0ae-434d-a0ee-13dd557bfe03",
   "metadata": {
    "jp-MarkdownHeadingCollapsed": true,
    "tags": []
   },
   "source": [
    "##### function 2.可以避免多輸入的參數 用*做成tuple;用**做成dict"
   ]
  },
  {
   "cell_type": "code",
   "execution_count": null,
   "id": "20d072a2-ac3a-4f6b-92f3-92854d6efc5e",
   "metadata": {},
   "outputs": [],
   "source": [
    "def resy_kwargs(a,b,*c,**d):\n",
    "    print(a+b)\n",
    "    print(c)\n",
    "    print(d)\n",
    "    \n",
    "resy_kwargs(1,2,3,4,5,6,word1='1',word2='2')"
   ]
  },
  {
   "cell_type": "markdown",
   "id": "ede5aafe-a466-43e9-a7b0-c1f4cb6d9066",
   "metadata": {
    "tags": []
   },
   "source": [
    "##### function 3.函數中的參數可以是函數(函數中的函數)"
   ]
  },
  {
   "cell_type": "code",
   "execution_count": null,
   "id": "2ba6b2ac-9d5d-46b7-ad14-8d9b210a1b48",
   "metadata": {},
   "outputs": [],
   "source": [
    "def fun_1(fun, b, c):\n",
    "    print(fun(b, c))\n",
    "    \n",
    "def fun_2(a, b):\n",
    "    return a + b\n",
    "\n",
    "fun_1(fun_2, 2, 3)"
   ]
  },
  {
   "cell_type": "markdown",
   "id": "2dc90a9e-3125-41f5-815b-abc58abd76f0",
   "metadata": {
    "jp-MarkdownHeadingCollapsed": true,
    "tags": []
   },
   "source": [
    "##### function 4.可同時定義多層函數(定義中的定義)"
   ]
  },
  {
   "cell_type": "code",
   "execution_count": null,
   "id": "4e690543-ec5e-4e82-8914-6f73f058db92",
   "metadata": {},
   "outputs": [],
   "source": [
    "def fun1(a, b):\n",
    "    def fun2(c, d):\n",
    "        return c + d\n",
    "    return fun2(a, b) #把外部函數導到內部函數再度return\n",
    "\n",
    "fun1(10, 7)"
   ]
  },
  {
   "cell_type": "code",
   "execution_count": 3,
   "id": "40f8f88e-e571-4b36-bda4-a7dd45683dc6",
   "metadata": {},
   "outputs": [
    {
     "data": {
      "text/plain": [
       "'We are the knights who say:XDD'"
      ]
     },
     "execution_count": 3,
     "metadata": {},
     "output_type": "execute_result"
    }
   ],
   "source": [
    "def fun3(a):\n",
    "    def fun4(b):\n",
    "        return f'We are the knights who say:{b}'\n",
    "    return fun4(a)\n",
    "\n",
    "fun3('XDD')"
   ]
  },
  {
   "cell_type": "markdown",
   "id": "3a8c6fdf-7384-48b9-b195-368a1decb8da",
   "metadata": {},
   "source": [
    "##### function 5.匿名函數lamda作為參數"
   ]
  },
  {
   "cell_type": "code",
   "execution_count": 3,
   "id": "240d56f2-d4ca-4dd8-a2d9-5371e609ec49",
   "metadata": {},
   "outputs": [
    {
     "name": "stdout",
     "output_type": "stream",
     "text": [
      "Thud!\n",
      "Meow!\n",
      "Thud!\n",
      "Hiss!\n"
     ]
    }
   ],
   "source": [
    "def edit_story(words, func):\n",
    "    for word in words:\n",
    "        print(func(word))\n",
    "        \n",
    "stairs = ['thud', 'meow', 'thud', 'hiss']\n",
    "\n",
    "# 匿名函數作法\n",
    "edit_story(stairs, lambda i: i.capitalize() + '!')"
   ]
  },
  {
   "cell_type": "code",
   "execution_count": null,
   "id": "051d0f75-cb40-414d-8d08-ca7b99e5babb",
   "metadata": {},
   "outputs": [],
   "source": []
  }
 ],
 "metadata": {
  "kernelspec": {
   "display_name": "Python 3 (ipykernel)",
   "language": "python",
   "name": "python3"
  },
  "language_info": {
   "codemirror_mode": {
    "name": "ipython",
    "version": 3
   },
   "file_extension": ".py",
   "mimetype": "text/x-python",
   "name": "python",
   "nbconvert_exporter": "python",
   "pygments_lexer": "ipython3",
   "version": "3.9.11"
  }
 },
 "nbformat": 4,
 "nbformat_minor": 5
}
