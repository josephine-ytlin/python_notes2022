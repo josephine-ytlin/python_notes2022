{
 "cells": [
  {
   "cell_type": "markdown",
   "id": "aa3724f4-93ed-4362-bbb7-f00ea1f92b7f",
   "metadata": {
    "jp-MarkdownHeadingCollapsed": true,
    "tags": []
   },
   "source": [
    "##### dict 1.任何兩兩一組變字典 用dict()"
   ]
  },
  {
   "cell_type": "code",
   "execution_count": 1,
   "id": "2cd3cf67-0dd7-42b7-9749-107b1b16f084",
   "metadata": {},
   "outputs": [
    {
     "name": "stdout",
     "output_type": "stream",
     "text": [
      "{'a': 'v', 'b': 'w'} {'d': 'y', 'c': 'x'}\n"
     ]
    }
   ],
   "source": [
    "dic = { 'a':'v','b':'w', }  #最後一個逗號可以省略\n",
    "dic_ = { 'd':'y','c':'x' }  #最後一個逗號可以省略\n",
    "print(dic, dic_)\n"
   ]
  },
  {
   "cell_type": "code",
   "execution_count": 2,
   "id": "539f0be5-f706-4b63-9da4-e19247bb3a51",
   "metadata": {},
   "outputs": [
    {
     "name": "stdout",
     "output_type": "stream",
     "text": [
      "{'a': 'b', 'c': 'd', 'e': 'f'} {'a': 'b', 'c': 'd', 'e': 'f'} {'a': 'b', 'c': 'd', 'e': 'f'}\n"
     ]
    }
   ],
   "source": [
    "lol1 = [ ['a', 'b'], ['c', 'd'], ['e', 'f'] ]\n",
    "lol2 = [ ('a', 'b'), ('c', 'd'), ('e', 'f') ]\n",
    "lol3 = ( ['a', 'b'], ['c', 'd'], ['e', 'f'] )\n",
    "print(dict(lol1), dict(lol2), dict(lol3))"
   ]
  },
  {
   "cell_type": "markdown",
   "id": "2a4c9b24-be80-4b3e-b05d-0e46f0950b0b",
   "metadata": {
    "jp-MarkdownHeadingCollapsed": true,
    "tags": []
   },
   "source": [
    "##### dict 2.刪除dict其中一個字 用del dict['key']"
   ]
  },
  {
   "cell_type": "code",
   "execution_count": 11,
   "id": "9c9ca058-2a96-4b90-ab4a-170584a37147",
   "metadata": {},
   "outputs": [],
   "source": [
    "dict_1 ={'a':1,'b':2,'c':3,'d':4}"
   ]
  },
  {
   "cell_type": "code",
   "execution_count": 12,
   "id": "a1e60169-b570-431b-9272-c99826522cf5",
   "metadata": {},
   "outputs": [
    {
     "data": {
      "text/plain": [
       "{'b': 2, 'c': 3, 'd': 4}"
      ]
     },
     "execution_count": 12,
     "metadata": {},
     "output_type": "execute_result"
    }
   ],
   "source": [
    "del dict_1['a']   #只能用key刪除\n",
    "dict_1"
   ]
  },
  {
   "cell_type": "markdown",
   "id": "6f14f072-f8be-4c99-9e7a-8d1beff440ae",
   "metadata": {
    "jp-MarkdownHeadingCollapsed": true,
    "tags": []
   },
   "source": [
    "##### dict3.key不能換,但value可以換 用dict['key']='new_value'"
   ]
  },
  {
   "cell_type": "code",
   "execution_count": 13,
   "id": "76e1c1cd-2d57-437f-86be-93178084b873",
   "metadata": {},
   "outputs": [
    {
     "data": {
      "text/plain": [
       "\"{'a': 1, 'b': 2, 'c': 3, 'd': 4},{'a': 1, 'b': 2, 'c': 3, 'd': 4}\""
      ]
     },
     "execution_count": 13,
     "metadata": {},
     "output_type": "execute_result"
    }
   ],
   "source": [
    "dict_1 ={'a':1,'b':2,'c':3,'d':4}\n",
    "dict_copy =dict_1.copy() #養成使用copy的好習慣\n",
    "f\"{dict_1},{dict_copy}\""
   ]
  },
  {
   "cell_type": "code",
   "execution_count": 15,
   "id": "ae84e4f6-f7df-4296-a650-eacc06a82a12",
   "metadata": {},
   "outputs": [
    {
     "data": {
      "text/plain": [
       "\"{'a': 1, 'b': 2, 'c': 3, 'd': 4},{'a': 'yoyoyo', 'b': 2, 'c': 3, 'd': 4}\""
      ]
     },
     "execution_count": 15,
     "metadata": {},
     "output_type": "execute_result"
    }
   ],
   "source": [
    "dict_copy['a']='yoyoyo'\n",
    "f\"{dict_1},{dict_copy}\""
   ]
  }
 ],
 "metadata": {
  "kernelspec": {
   "display_name": "Python 3 (ipykernel)",
   "language": "python",
   "name": "python3"
  },
  "language_info": {
   "codemirror_mode": {
    "name": "ipython",
    "version": 3
   },
   "file_extension": ".py",
   "mimetype": "text/x-python",
   "name": "python",
   "nbconvert_exporter": "python",
   "pygments_lexer": "ipython3",
   "version": "3.9.11"
  }
 },
 "nbformat": 4,
 "nbformat_minor": 5
}
